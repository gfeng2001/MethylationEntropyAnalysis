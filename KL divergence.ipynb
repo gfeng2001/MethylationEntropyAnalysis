{
 "cells": [
  {
   "cell_type": "markdown",
   "metadata": {},
   "source": [
    "# Kullback-Leibler Divergence a.k.a Relative Entropy"
   ]
  },
  {
   "cell_type": "markdown",
   "metadata": {},
   "source": [
    "Given two probability distribution $p(x)$ and $q(x)$ over a discrete random variable $X$, the relative entropy  $D(p||q)$ is defined as follows:"
   ]
  },
  {
   "cell_type": "markdown",
   "metadata": {},
   "source": [
    "\n",
    "\n",
    "$$\n",
    "\\begin{aligned}\n",
    "D(p||q)=\\sum_{x\\in X} p(x) log{\\frac{p(x)}{q(x)}}\n",
    "\\end{aligned}\n",
    "$$\n",
    "\n"
   ]
  },
  {
   "cell_type": "markdown",
   "metadata": {},
   "source": [
    "## Example 1\n",
    "\n",
    "Generate 1000 integers from 1 to 10, let it $p(x)$.\n",
    "Generate 1000 integers from 1 to 10, let it $q(x)$.\n",
    "\n",
    "1. Convert event frequency to probability\n",
    "2. Plot, $p(x)$, $q(x)$ in one graph.\n",
    "\n",
    "1. Compute entropy of $p(x)$\n",
    "2. Compute entropy of $q(x)$\n",
    "\n",
    "3. For each event, compute $p(x) log{\\frac{p(x)}{q(x)}}$\n",
    "3. Then plot $p(x) log{\\frac{p(x)}{q(x)}}$. x-axis is event, y-axis is probability\n",
    "3. Compute KL divergence $D(p||q)$\n",
    "\n",
    "3. For each event, compute $q(x) log{\\frac{q(x)}{p(x)}}$\n",
    "3. Then plot $q(x) log{\\frac{q(x)}{q(x)}}$. x-axis is event, y-axis is probability\n",
    "4. Compute KL divergence $D(q||p)$\n"
   ]
  },
  {
   "cell_type": "code",
   "execution_count": null,
   "metadata": {
    "collapsed": true
   },
   "outputs": [],
   "source": []
  },
  {
   "cell_type": "markdown",
   "metadata": {},
   "source": [
    "## Example 2\n",
    "\n",
    "* For probabilistic distirubtion $p(x)$, generate 1000 numbers following normal distribution $N(\\mu=0, \\sigma=0.5)$.\n",
    "* For probabilistic distirubtion $q(x)$, generate 1000 numbers following normal distribution $N(\\mu=1, \\sigma=0.5)$.\n",
    "\n",
    "\n",
    "1. Plot $p(x)$ and $q(x)$ in a graph. \n",
    "2. Compute entropy of $p(x)$\n",
    "3. Compute entropy of $q(x)$\n",
    "4. Compute KL divergence $D(q||p)$\n",
    "5. Compute KL divergence $D(p||q)$"
   ]
  },
  {
   "cell_type": "code",
   "execution_count": null,
   "metadata": {
    "collapsed": true
   },
   "outputs": [],
   "source": []
  },
  {
   "cell_type": "markdown",
   "metadata": {},
   "source": [
    "## Example 3\n",
    "\n",
    "* For probabilistic distirubtion $p(x)$, generate 1000 numbers following normal distribution $N(\\mu=0, \\sigma=0.5)$.\n",
    "* For probabilistic distirubtion $q(x)$, generate 1000 numbers following normal distribution $N(\\mu=0, \\sigma=1)$.\n",
    "\n",
    "\n",
    "1. Plot $p(x)$ and $q(x)$ in a graph. \n",
    "2. Compute entropy of $p(x)$\n",
    "3. Compute entropy of $q(x)$\n",
    "4. Compute KL divergence $D(q||p)$\n",
    "5. Compute KL divergence $D(p||q)$"
   ]
  },
  {
   "cell_type": "code",
   "execution_count": null,
   "metadata": {
    "collapsed": true
   },
   "outputs": [],
   "source": []
  },
  {
   "cell_type": "markdown",
   "metadata": {},
   "source": [
    "## Example 4\n",
    "\n",
    "* For probabilistic distirubtion $p(x)$, generate 1000 numbers following normal distribution $N(\\mu=0, \\sigma=0.5)$.\n",
    "* For probabilistic distirubtion $q(x)$, generate 1000 numbers following normal distribution $N(\\mu=0, \\sigma=0.5)$.\n",
    "\n",
    "\n",
    "1. Plot $p(x)$ and $q(x)$ in a graph. \n",
    "2. Compute entropy of $p(x)$\n",
    "3. Compute entropy of $q(x)$\n",
    "4. Compute KL divergence $D(q||p)$\n",
    "5. Compute KL divergence $D(p||q)$"
   ]
  },
  {
   "cell_type": "code",
   "execution_count": null,
   "metadata": {
    "collapsed": true
   },
   "outputs": [],
   "source": []
  },
  {
   "cell_type": "markdown",
   "metadata": {},
   "source": [
    "## Example 5\n",
    "\n",
    "* For probabilistic distirubtion $p(x)$, generate 1000 numbers following Poisson distribution $Pois(\\lambda=5)$.\n",
    "* For probabilistic distirubtion $q(x)$, generate 1000 numbers following Poisson distribution $Pois(\\lambda=6)$.\n",
    "\n",
    "\n",
    "1. Plot $p(x)$ and $q(x)$ in a graph. \n",
    "2. Compute entropy of $p(x)$\n",
    "3. Compute entropy of $q(x)$\n",
    "4. Compute KL divergence $D(q||p)$\n",
    "5. Compute KL divergence $D(p||q)$"
   ]
  },
  {
   "cell_type": "code",
   "execution_count": null,
   "metadata": {
    "collapsed": true
   },
   "outputs": [],
   "source": []
  },
  {
   "cell_type": "markdown",
   "metadata": {},
   "source": [
    "## Example 6\n",
    "\n",
    "* For probabilistic distirubtion $p(x)$, generate 1000 numbers following Poisson distribution $Pois(\\lambda=7)$.\n",
    "* For probabilistic distirubtion $q(x)$, generate 1000 numbers following Poisson distribution $Pois(\\lambda=7)$.\n",
    "\n",
    "\n",
    "1. Plot $p(x)$ and $q(x)$ in a graph. \n",
    "2. Compute entropy of $p(x)$\n",
    "3. Compute entropy of $q(x)$\n",
    "4. Compute KL divergence $D(q||p)$\n",
    "5. Compute KL divergence $D(p||q)$"
   ]
  },
  {
   "cell_type": "code",
   "execution_count": null,
   "metadata": {
    "collapsed": true
   },
   "outputs": [],
   "source": []
  },
  {
   "cell_type": "code",
   "execution_count": null,
   "metadata": {
    "collapsed": true
   },
   "outputs": [],
   "source": []
  }
 ],
 "metadata": {
  "anaconda-cloud": {},
  "kernelspec": {
   "display_name": "Python [default]",
   "language": "python",
   "name": "python3"
  },
  "language_info": {
   "codemirror_mode": {
    "name": "ipython",
    "version": 3
   },
   "file_extension": ".py",
   "mimetype": "text/x-python",
   "name": "python",
   "nbconvert_exporter": "python",
   "pygments_lexer": "ipython3",
   "version": "3.5.2"
  }
 },
 "nbformat": 4,
 "nbformat_minor": 2
}
