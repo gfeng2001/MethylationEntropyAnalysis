{
 "cells": [
  {
   "cell_type": "markdown",
   "metadata": {},
   "source": [
    "# Research Plan for Gilbert\n",
    "\n"
   ]
  },
  {
   "cell_type": "markdown",
   "metadata": {},
   "source": [
    "## 1. Background training\n",
    "\n",
    "### 1.1. SCG4 account set up \n",
    "\n",
    "Alex Chekholko <chekh@stanford.edu>\n",
    "\n",
    "- [x] scg4 \n",
    "- [x] SUnetID\n",
    "- [x] dual authentication\n",
    "- [ ] vpn (https://uit.stanford.edu/service/vpn/)\n",
    "- [ ] \n",
    "\n",
    "### 1.2. Jupyter Python\n",
    "- [x] [kmer counting in E.coli](K-mer Counting.ipynb)\n",
    "- [ ] [matplotlib](http://matplotlib.org/users/pyplot_tutorial.html)\n",
    "- [ ] [Markdown tutorial](https://github.com/adam-p/markdown-here/wiki/Markdown-Cheatsheet)\n",
    "\n",
    "\n",
    "### 1.3. Literatures \n",
    "\n",
    "- [BSMAP: whole genome bisulfite sequence MAPping program](https://bmcbioinformatics.biomedcentral.com/articles/10.1186/1471-2105-10-232)\n",
    "- [MOABS: model based analysis of bisulfite sequencing data](https://genomebiology.biomedcentral.com/articles/10.1186/gb-2014-15-2-r38)\n"
   ]
  },
  {
   "cell_type": "markdown",
   "metadata": {},
   "source": [
    "## 2. Theory\n",
    "\n",
    "### 2.1. Entropy"
   ]
  },
  {
   "cell_type": "markdown",
   "metadata": {},
   "source": [
    "### 2.2. DMR"
   ]
  }
 ],
 "metadata": {
  "kernelspec": {
   "display_name": "Python [default]",
   "language": "python",
   "name": "python3"
  },
  "language_info": {
   "codemirror_mode": {
    "name": "ipython",
    "version": 3
   },
   "file_extension": ".py",
   "mimetype": "text/x-python",
   "name": "python",
   "nbconvert_exporter": "python",
   "pygments_lexer": "ipython3",
   "version": "3.5.2"
  }
 },
 "nbformat": 4,
 "nbformat_minor": 2
}
