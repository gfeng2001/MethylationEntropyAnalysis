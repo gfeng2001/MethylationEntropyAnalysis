{
 "cells": [
  {
   "cell_type": "code",
   "execution_count": 1,
   "metadata": {
    "collapsed": false
   },
   "outputs": [
    {
     "data": {
      "text/plain": [
       "'/Users/gfeng2001/anaconda3/Practice'"
      ]
     },
     "execution_count": 1,
     "metadata": {},
     "output_type": "execute_result"
    }
   ],
   "source": [
    "pwd"
   ]
  },
  {
   "cell_type": "code",
   "execution_count": 2,
   "metadata": {
    "collapsed": false
   },
   "outputs": [
    {
     "name": "stdout",
     "output_type": "stream",
     "text": [
      "/Users/gfeng2001/anaconda3\n"
     ]
    }
   ],
   "source": [
    "cd .."
   ]
  },
  {
   "cell_type": "code",
   "execution_count": 3,
   "metadata": {
    "collapsed": false
   },
   "outputs": [
    {
     "name": "stdout",
     "output_type": "stream",
     "text": [
      "\u001b[34mAnaconda-Navigator.app\u001b[m\u001b[m/ \u001b[34menvs\u001b[m\u001b[m/                   \u001b[34mpython.app\u001b[m\u001b[m/\r\n",
      "LICENSE.rst             \u001b[34metc\u001b[m\u001b[m/                    \u001b[34mqml\u001b[m\u001b[m/\r\n",
      "LICENSE.txt             \u001b[34minclude\u001b[m\u001b[m/                \u001b[34mresources\u001b[m\u001b[m/\r\n",
      "\u001b[34mPractice\u001b[m\u001b[m/               \u001b[34mlib\u001b[m\u001b[m/                    \u001b[34msbin\u001b[m\u001b[m/\r\n",
      "README.rst              \u001b[34mlibexec\u001b[m\u001b[m/                \u001b[34mshare\u001b[m\u001b[m/\r\n",
      "Untitled.ipynb          \u001b[34mmkspecs\u001b[m\u001b[m/                \u001b[34mssl\u001b[m\u001b[m/\r\n",
      "\u001b[34mbin\u001b[m\u001b[m/                    \u001b[34mphrasebooks\u001b[m\u001b[m/            \u001b[34mtranslations\u001b[m\u001b[m/\r\n",
      "\u001b[34mconda-meta\u001b[m\u001b[m/             \u001b[34mpkgs\u001b[m\u001b[m/\r\n",
      "\u001b[34mdoc\u001b[m\u001b[m/                    \u001b[34mplugins\u001b[m\u001b[m/\r\n"
     ]
    }
   ],
   "source": [
    "ls"
   ]
  },
  {
   "cell_type": "code",
   "execution_count": 13,
   "metadata": {
    "collapsed": false
   },
   "outputs": [
    {
     "name": "stdout",
     "output_type": "stream",
     "text": [
      "/Users/gfeng2001/Downloads\n"
     ]
    }
   ],
   "source": [
    "cd Downloads"
   ]
  },
  {
   "cell_type": "code",
   "execution_count": 14,
   "metadata": {
    "collapsed": true
   },
   "outputs": [],
   "source": [
    "less GCF_000005845.2_ASM584v2_genomic.fna"
   ]
  },
  {
   "cell_type": "code",
   "execution_count": 9,
   "metadata": {
    "collapsed": false,
    "scrolled": false
   },
   "outputs": [
    {
     "data": {
      "image/png": "[encoded data removed]",
      "text/plain": [
       "<matplotlib.figure.Figure at 0x13ae5a588>"
      ]
     },
     "metadata": {},
     "output_type": "display_data"
    }
   ],
   "source": [
    "f = open(\"GCF_000005845.2_ASM584v2_genomic.fna\", 'r')\n",
    "i = 0\n",
    "s = \"\"\n",
    "for line in f:\n",
    "    if i!=0:\n",
    "        s += line[:-1]\n",
    "    i+=1\n",
    "    \n",
    "x = []\n",
    "y = []\n",
    "\n",
    "for k in range (1, 26):  \n",
    "    kmers = {}\n",
    "    for i in range(0, len(s)-k+1):\n",
    "        key = s[i: i+k]\n",
    "        if key in kmers:\n",
    "            kmers[key] += 1\n",
    "        else:\n",
    "            kmers[key] = 1\n",
    "    x.append(k)\n",
    "    y.append(len(kmers))\n",
    "\n",
    "import numpy as np\n",
    "import matplotlib.pyplot as plt\n",
    "\n",
    "#y2 = np.power(4, x)\n",
    "#log = np.log10(y)\n",
    "#log2 = np.log10(y2)\n",
    "\n",
    "plt.plot(x, y, 'k')\n",
    "#plt.plot(x, log2, 'k')\n",
    "plt.show()\n"
   ]
  },
  {
   "cell_type": "code",
   "execution_count": null,
   "metadata": {
    "collapsed": true
   },
   "outputs": [],
   "source": []
  }
 ],
 "metadata": {
  "anaconda-cloud": {},
  "kernelspec": {
   "display_name": "Python [default]",
   "language": "python",
   "name": "python3"
  },
  "language_info": {
   "codemirror_mode": {
    "name": "ipython",
    "version": 3
   },
   "file_extension": ".py",
   "mimetype": "text/x-python",
   "name": "python",
   "nbconvert_exporter": "python",
   "pygments_lexer": "ipython3",
   "version": "3.5.2"
  }
 },
 "nbformat": 4,
 "nbformat_minor": 1
}
