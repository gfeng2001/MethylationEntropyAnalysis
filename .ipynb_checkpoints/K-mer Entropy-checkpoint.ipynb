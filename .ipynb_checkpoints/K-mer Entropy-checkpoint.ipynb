{
 "cells": [
  {
   "cell_type": "markdown",
   "metadata": {},
   "source": [
    "# Entropy of K-mers"
   ]
  },
  {
   "cell_type": "code",
   "execution_count": 1,
   "metadata": {
    "collapsed": false
   },
   "outputs": [
    {
     "data": {
      "text/plain": [
       "'/Users/gfeng2001/anaconda3/Practice'"
      ]
     },
     "execution_count": 1,
     "metadata": {},
     "output_type": "execute_result"
    }
   ],
   "source": [
    "pwd"
   ]
  },
  {
   "cell_type": "code",
   "execution_count": 2,
   "metadata": {
    "collapsed": false
   },
   "outputs": [],
   "source": [
    "less GCF_000005845.2_ASM584v2_genomic.fna"
   ]
  },
  {
   "cell_type": "markdown",
   "metadata": {},
   "source": [
    "This cell of code uses the data to find the amount of k-mers for each k. The operation is done using a for loop that loops through the genome and finds substrings of length k, checks to see if that substring has already been found, and then adds it to the k-mer dictionary. Then, the number of unique k-mers is the length of the dictionary."
   ]
  },
  {
   "cell_type": "code",
   "execution_count": null,
   "metadata": {
    "collapsed": false,
    "scrolled": false
   },
   "outputs": [
    {
     "name": "stdout",
     "output_type": "stream",
     "text": [
      "4641652\n"
     ]
    }
   ],
   "source": [
    "import numpy as np\n",
    "\n",
    "f = open(\"GCF_000005845.2_ASM584v2_genomic.fna\", 'r')\n",
    "#f = open(\"short.fna\", 'r')\n",
    "i = 0\n",
    "s = \"\"\n",
    "for line in f:\n",
    "    if i!=0:\n",
    "        s += line[:-1]\n",
    "    i+=1\n",
    "    \n",
    "k = 10    \n",
    "    \n",
    "x = [0]*(len(s)-k+1)\n",
    "y = [0]*(len(s)-k+1)\n",
    "curr = {'A': 0, 'C': 0, 'G': 0, 'T': 0}\n",
    "\n",
    "print(len(s))\n",
    "\n",
    "def add(char): \n",
    "    if char == 'A':\n",
    "        curr['A'] +=1\n",
    "    if char == 'C':\n",
    "        curr['C'] +=1\n",
    "    if char == 'G':\n",
    "        curr['G'] +=1\n",
    "    if char == 'T':\n",
    "        curr['T'] +=1\n",
    "    return\n",
    "\n",
    "def remove(char): \n",
    "    if char == 'A':\n",
    "        curr['A'] -=1\n",
    "    if char == 'C':\n",
    "        curr['C'] -=1\n",
    "    if char == 'G':\n",
    "        curr['G'] -=1\n",
    "    if char == 'T':\n",
    "        curr['T'] -=1\n",
    "    return\n",
    "\n",
    "def entropy():\n",
    "    e=0.0\n",
    "    if curr['A'] != 0:\n",
    "        a = curr['A']*1.0/k\n",
    "        ap = a*np.log2(a)\n",
    "        e -= ap\n",
    "    if curr['C'] != 0:\n",
    "        c = curr['C']*1.0/k\n",
    "        cp = c*np.log2(c)\n",
    "        e -= cp\n",
    "    if curr['G'] != 0:\n",
    "        g = curr['G']*1.0/k\n",
    "        gp = g*np.log2(g)\n",
    "        e -= gp\n",
    "    if curr['T'] != 0:\n",
    "        t = curr['T']*1.0/k\n",
    "        tp = t*np.log2(t)\n",
    "        e -= tp\n",
    "    return e\n",
    "    \n",
    "for i in range(0, k):\n",
    "    add(s[i])\n",
    "\n",
    "x[0] = 0\n",
    "y[0] = int(100*entropy())\n",
    "    \n",
    "for i in range(1, len(s)-k+1): #i is the start position of the k-mer\n",
    "    remove(s[i-1])\n",
    "    add(s[i+k-1])\n",
    "    x[i] = i\n",
    "    y[i] = int(100*entropy())\n",
    "    "
   ]
  },
  {
   "cell_type": "markdown",
   "metadata": {},
   "source": [
    "This cell of code draws the graph using the data from the previous cell"
   ]
  },
  {
   "cell_type": "code",
   "execution_count": null,
   "metadata": {
    "collapsed": false
   },
   "outputs": [],
   "source": [
    "#import numpy as np\n",
    "import matplotlib.pyplot as plt\n",
    "\n",
    "fig, ax = plt.subplots(figsize=(7,7))\n",
    "#y2 = np.power(4, x)\n",
    "#log = np.log10(y)\n",
    "#log2 = np.log10(y2)\n",
    "\n",
    "ax.set_xlabel('Position')\n",
    "ax.set_ylabel('Entropy')\n",
    "#ax.set_yscale(\"log\")\n",
    "ax.set_title('Position vs. Entropy')\n",
    "plt.plot(x, y, 'k')\n",
    "plt.grid(True)\n",
    "#plt.plot(x, log2, 'k')\n",
    "plt.show()"
   ]
  },
  {
   "cell_type": "code",
   "execution_count": null,
   "metadata": {
    "collapsed": true
   },
   "outputs": [],
   "source": []
  }
 ],
 "metadata": {
  "anaconda-cloud": {},
  "kernelspec": {
   "display_name": "Python [default]",
   "language": "python",
   "name": "python3"
  },
  "language_info": {
   "codemirror_mode": {
    "name": "ipython",
    "version": 3
   },
   "file_extension": ".py",
   "mimetype": "text/x-python",
   "name": "python",
   "nbconvert_exporter": "python",
   "pygments_lexer": "ipython3",
   "version": "3.5.2"
  }
 },
 "nbformat": 4,
 "nbformat_minor": 1
}
